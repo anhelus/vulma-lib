{
 "cells": [
  {
   "cell_type": "code",
   "execution_count": 1,
   "metadata": {},
   "outputs": [],
   "source": [
    "from tensorflow import keras\n",
    "from src.utils import to_csv\n",
    "from src.train import train_test_split, build_tl_2, TransferLearningNet"
   ]
  },
  {
   "cell_type": "code",
   "execution_count": 2,
   "metadata": {},
   "outputs": [
    {
     "name": "stdout",
     "output_type": "stream",
     "text": [
      "Found 2436 files belonging to 7 classes.\n",
      "Using 1706 files for training.\n",
      "Found 2436 files belonging to 7 classes.\n",
      "Using 1706 files for training.\n"
     ]
    }
   ],
   "source": [
    "train, val = train_test_split('./dataset')"
   ]
  },
  {
   "cell_type": "code",
   "execution_count": 3,
   "metadata": {},
   "outputs": [
    {
     "name": "stdout",
     "output_type": "stream",
     "text": [
      "Epoch 1/50\n",
      "54/54 [==============================] - 97s 716ms/step - loss: 5.3915 - categorical_accuracy: 0.3529 - precision: 0.4060 - recall_1: 0.1430 - val_loss: 73.2737 - val_categorical_accuracy: 0.1090 - val_precision: 0.1069 - val_recall_1: 0.1055\n",
      "Epoch 2/50\n",
      "54/54 [==============================] - 29s 522ms/step - loss: 1.1448 - categorical_accuracy: 0.5780 - precision: 0.6748 - recall_1: 0.4232 - val_loss: 9.0383 - val_categorical_accuracy: 0.1653 - val_precision: 0.1657 - val_recall_1: 0.1436\n",
      "Epoch 3/50\n",
      "54/54 [==============================] - 28s 507ms/step - loss: 0.6943 - categorical_accuracy: 0.7562 - precision: 0.8040 - recall_1: 0.6829 - val_loss: 6.1687 - val_categorical_accuracy: 0.1975 - val_precision: 0.1999 - val_recall_1: 0.1852\n",
      "Epoch 4/50\n",
      "54/54 [==============================] - 27s 501ms/step - loss: 0.5102 - categorical_accuracy: 0.8159 - precision: 0.8416 - recall_1: 0.7755 - val_loss: 5.0312 - val_categorical_accuracy: 0.1612 - val_precision: 0.1384 - val_recall_1: 0.0920\n",
      "Epoch 5/50\n",
      "54/54 [==============================] - 28s 510ms/step - loss: 0.3901 - categorical_accuracy: 0.8681 - precision: 0.8827 - recall_1: 0.8511 - val_loss: 4.0479 - val_categorical_accuracy: 0.2468 - val_precision: 0.2310 - val_recall_1: 0.1571\n",
      "Epoch 6/50\n",
      "54/54 [==============================] - 28s 507ms/step - loss: 0.3474 - categorical_accuracy: 0.8751 - precision: 0.8896 - recall_1: 0.8552 - val_loss: 8.2650 - val_categorical_accuracy: 0.2702 - val_precision: 0.2754 - val_recall_1: 0.2526\n",
      "Epoch 7/50\n",
      "54/54 [==============================] - 28s 513ms/step - loss: 0.4138 - categorical_accuracy: 0.8605 - precision: 0.8835 - recall_1: 0.8359 - val_loss: 6.6500 - val_categorical_accuracy: 0.3042 - val_precision: 0.3059 - val_recall_1: 0.2989\n",
      "Epoch 8/50\n",
      "54/54 [==============================] - 27s 499ms/step - loss: 0.2800 - categorical_accuracy: 0.9004 - precision: 0.9130 - recall_1: 0.8916 - val_loss: 7.4770 - val_categorical_accuracy: 0.2444 - val_precision: 0.2486 - val_recall_1: 0.2374\n",
      "Epoch 9/50\n",
      "54/54 [==============================] - 27s 493ms/step - loss: 0.2050 - categorical_accuracy: 0.9250 - precision: 0.9304 - recall_1: 0.9162 - val_loss: 7.5269 - val_categorical_accuracy: 0.2046 - val_precision: 0.2087 - val_recall_1: 0.1999\n",
      "Epoch 10/50\n",
      "54/54 [==============================] - 28s 515ms/step - loss: 0.2079 - categorical_accuracy: 0.9297 - precision: 0.9375 - recall_1: 0.9238 - val_loss: 7.0496 - val_categorical_accuracy: 0.3335 - val_precision: 0.3353 - val_recall_1: 0.3259\n",
      "Epoch 11/50\n",
      "54/54 [==============================] - 28s 509ms/step - loss: 0.1956 - categorical_accuracy: 0.9261 - precision: 0.9294 - recall_1: 0.9185 - val_loss: 5.9308 - val_categorical_accuracy: 0.2702 - val_precision: 0.2743 - val_recall_1: 0.2579\n",
      "Epoch 12/50\n",
      "54/54 [==============================] - 28s 521ms/step - loss: 0.1633 - categorical_accuracy: 0.9343 - precision: 0.9415 - recall_1: 0.9250 - val_loss: 5.5003 - val_categorical_accuracy: 0.2579 - val_precision: 0.2595 - val_recall_1: 0.2438\n",
      "Epoch 13/50\n",
      "54/54 [==============================] - 27s 500ms/step - loss: 0.2155 - categorical_accuracy: 0.9302 - precision: 0.9358 - recall_1: 0.9220 - val_loss: 7.3337 - val_categorical_accuracy: 0.3218 - val_precision: 0.3192 - val_recall_1: 0.3048\n",
      "Epoch 14/50\n",
      "54/54 [==============================] - 27s 492ms/step - loss: 0.2099 - categorical_accuracy: 0.9244 - precision: 0.9310 - recall_1: 0.9168 - val_loss: 4.3873 - val_categorical_accuracy: 0.2597 - val_precision: 0.2610 - val_recall_1: 0.2216\n",
      "Epoch 15/50\n",
      "54/54 [==============================] - 27s 503ms/step - loss: 0.1872 - categorical_accuracy: 0.9402 - precision: 0.9438 - recall_1: 0.9343 - val_loss: 3.5831 - val_categorical_accuracy: 0.1841 - val_precision: 0.1688 - val_recall_1: 0.1067\n"
     ]
    }
   ],
   "source": [
    "model, history = build_tl_2(\n",
    "    keras.applications.NASNetMobile,\n",
    "    7,\n",
    "    train,\n",
    "    val,\n",
    "    logfile='nasnet.csv',\n",
    "    epochs=50)"
   ]
  },
  {
   "cell_type": "code",
   "execution_count": null,
   "metadata": {},
   "outputs": [],
   "source": [
    "model.save('nasnet.h5')"
   ]
  },
  {
   "cell_type": "code",
   "execution_count": null,
   "metadata": {},
   "outputs": [],
   "source": []
  }
 ],
 "metadata": {
  "kernelspec": {
   "display_name": "Python 3.9.13 ('bridge_vulma-E44T8-RP')",
   "language": "python",
   "name": "python3"
  },
  "language_info": {
   "codemirror_mode": {
    "name": "ipython",
    "version": 3
   },
   "file_extension": ".py",
   "mimetype": "text/x-python",
   "name": "python",
   "nbconvert_exporter": "python",
   "pygments_lexer": "ipython3",
   "version": "3.9.13"
  },
  "orig_nbformat": 4,
  "vscode": {
   "interpreter": {
    "hash": "704d64a76b07770215ba03109d4a0fedf9aa71b80f67ad5012c468361f675bcc"
   }
  }
 },
 "nbformat": 4,
 "nbformat_minor": 2
}
