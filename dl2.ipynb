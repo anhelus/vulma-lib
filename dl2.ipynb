{
 "cells": [
  {
   "cell_type": "code",
   "execution_count": 1,
   "metadata": {},
   "outputs": [],
   "source": [
    "from tensorflow import keras\n",
    "from src.utils import to_csv\n",
    "from train import train_test_split, build_tl_2"
   ]
  },
  {
   "cell_type": "code",
   "execution_count": 2,
   "metadata": {},
   "outputs": [
    {
     "name": "stdout",
     "output_type": "stream",
     "text": [
      "Found 2436 files belonging to 7 classes.\n",
      "Using 1706 files for training.\n",
      "Found 2436 files belonging to 7 classes.\n",
      "Using 1706 files for training.\n"
     ]
    }
   ],
   "source": [
    "train, val = train_test_split('./dataset')"
   ]
  },
  {
   "cell_type": "code",
   "execution_count": 9,
   "metadata": {},
   "outputs": [
    {
     "name": "stdout",
     "output_type": "stream",
     "text": [
      "Epoch 1/20\n",
      "54/54 [==============================] - 21s 214ms/step - loss: 6.1964 - categorical_accuracy: 0.3329 - val_loss: 313.9748 - val_categorical_accuracy: 0.1993\n",
      "Epoch 2/20\n",
      "54/54 [==============================] - 10s 171ms/step - loss: 1.0637 - categorical_accuracy: 0.6084 - val_loss: 127.5811 - val_categorical_accuracy: 0.2011\n",
      "Epoch 3/20\n",
      "54/54 [==============================] - 9s 169ms/step - loss: 0.6528 - categorical_accuracy: 0.7474 - val_loss: 53.5763 - val_categorical_accuracy: 0.2134\n",
      "Epoch 4/20\n",
      "54/54 [==============================] - 10s 169ms/step - loss: 0.4075 - categorical_accuracy: 0.8417 - val_loss: 23.0973 - val_categorical_accuracy: 0.2309\n",
      "Epoch 5/20\n",
      "54/54 [==============================] - 9s 167ms/step - loss: 0.3018 - categorical_accuracy: 0.8962 - val_loss: 18.9923 - val_categorical_accuracy: 0.2333\n",
      "Epoch 6/20\n",
      "54/54 [==============================] - 9s 168ms/step - loss: 0.1998 - categorical_accuracy: 0.9326 - val_loss: 12.0770 - val_categorical_accuracy: 0.2444\n",
      "Epoch 7/20\n",
      "54/54 [==============================] - 9s 169ms/step - loss: 0.1513 - categorical_accuracy: 0.9455 - val_loss: 8.5075 - val_categorical_accuracy: 0.2591\n",
      "Epoch 8/20\n",
      "54/54 [==============================] - 10s 173ms/step - loss: 0.1263 - categorical_accuracy: 0.9519 - val_loss: 7.5590 - val_categorical_accuracy: 0.2620\n",
      "Epoch 9/20\n",
      "54/54 [==============================] - 9s 170ms/step - loss: 0.1275 - categorical_accuracy: 0.9572 - val_loss: 4.8093 - val_categorical_accuracy: 0.3072\n",
      "Epoch 10/20\n",
      "54/54 [==============================] - 9s 167ms/step - loss: 0.1132 - categorical_accuracy: 0.9543 - val_loss: 6.2301 - val_categorical_accuracy: 0.3118\n",
      "Epoch 11/20\n",
      "54/54 [==============================] - 9s 167ms/step - loss: 0.0849 - categorical_accuracy: 0.9596 - val_loss: 4.9105 - val_categorical_accuracy: 0.3664\n",
      "Epoch 12/20\n",
      "54/54 [==============================] - 9s 168ms/step - loss: 0.0838 - categorical_accuracy: 0.9625 - val_loss: 3.7170 - val_categorical_accuracy: 0.4185\n",
      "Epoch 13/20\n",
      "54/54 [==============================] - 9s 167ms/step - loss: 0.0733 - categorical_accuracy: 0.9625 - val_loss: 2.8912 - val_categorical_accuracy: 0.4795\n",
      "Epoch 14/20\n",
      "54/54 [==============================] - 9s 167ms/step - loss: 0.0745 - categorical_accuracy: 0.9642 - val_loss: 3.0121 - val_categorical_accuracy: 0.4748\n",
      "Epoch 15/20\n",
      "54/54 [==============================] - 10s 173ms/step - loss: 0.0693 - categorical_accuracy: 0.9660 - val_loss: 2.3522 - val_categorical_accuracy: 0.5551\n",
      "Epoch 16/20\n",
      "54/54 [==============================] - 9s 169ms/step - loss: 0.0608 - categorical_accuracy: 0.9660 - val_loss: 2.1439 - val_categorical_accuracy: 0.5768\n",
      "Epoch 17/20\n",
      "54/54 [==============================] - 10s 172ms/step - loss: 0.0665 - categorical_accuracy: 0.9701 - val_loss: 1.7787 - val_categorical_accuracy: 0.6213\n",
      "Epoch 18/20\n",
      "54/54 [==============================] - 10s 173ms/step - loss: 0.0758 - categorical_accuracy: 0.9695 - val_loss: 1.4188 - val_categorical_accuracy: 0.6805\n",
      "Epoch 19/20\n",
      "54/54 [==============================] - 9s 169ms/step - loss: 0.0733 - categorical_accuracy: 0.9654 - val_loss: 1.3111 - val_categorical_accuracy: 0.6917\n",
      "Epoch 20/20\n",
      "54/54 [==============================] - 9s 167ms/step - loss: 0.0586 - categorical_accuracy: 0.9707 - val_loss: 0.9900 - val_categorical_accuracy: 0.7538\n"
     ]
    },
    {
     "ename": "",
     "evalue": "",
     "output_type": "error",
     "traceback": [
      "\u001b[1;31mThe Kernel crashed while executing code in the the current cell or a previous cell. Please review the code in the cell(s) to identify a possible cause of the failure. Click <a href='https://aka.ms/vscodeJupyterKernelCrash'>here</a> for more info. View Jupyter <a href='command:jupyter.viewOutput'>log</a> for further details."
     ]
    }
   ],
   "source": [
    "model_inc, history_inc = build_tl_2(keras.applications.MobileNetV3Small, 7, train, val, epochs=20)"
   ]
  },
  {
   "cell_type": "code",
   "execution_count": 4,
   "metadata": {},
   "outputs": [],
   "source": [
    "model_mobile.save('nasnet.h5')"
   ]
  },
  {
   "cell_type": "code",
   "execution_count": 7,
   "metadata": {},
   "outputs": [],
   "source": [
    "to_csv(history_mobile.history, outfile='history_nasnet.csv')"
   ]
  },
  {
   "cell_type": "code",
   "execution_count": null,
   "metadata": {},
   "outputs": [],
   "source": []
  }
 ],
 "metadata": {
  "interpreter": {
   "hash": "78128ea9911bfd6521b4706837ad107bf9b1e8e6586200bf5e0f9634179147f0"
  },
  "kernelspec": {
   "display_name": "Python 3.10.4 ('bridge-vulma_v3-TYdCAC2x')",
   "language": "python",
   "name": "python3"
  },
  "language_info": {
   "codemirror_mode": {
    "name": "ipython",
    "version": 3
   },
   "file_extension": ".py",
   "mimetype": "text/x-python",
   "name": "python",
   "nbconvert_exporter": "python",
   "pygments_lexer": "ipython3",
   "version": "3.10.4"
  },
  "orig_nbformat": 4
 },
 "nbformat": 4,
 "nbformat_minor": 2
}
